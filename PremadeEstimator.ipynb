{
  "nbformat": 4,
  "nbformat_minor": 0,
  "metadata": {
    "colab": {
      "name": "PremadeEstimator.ipynb",
      "provenance": [],
      "authorship_tag": "ABX9TyOibmAxxi+07skhhAihd/vP",
      "include_colab_link": true
    },
    "kernelspec": {
      "name": "python3",
      "display_name": "Python 3"
    }
  },
  "cells": [
    {
      "cell_type": "markdown",
      "metadata": {
        "id": "view-in-github",
        "colab_type": "text"
      },
      "source": [
        "<a href=\"https://colab.research.google.com/github/bpt2017/MachineLearning/blob/master/PremadeEstimator.ipynb\" target=\"_parent\"><img src=\"https://colab.research.google.com/assets/colab-badge.svg\" alt=\"Open In Colab\"/></a>"
      ]
    },
    {
      "cell_type": "markdown",
      "metadata": {
        "id": "wFnk99O7FWmH",
        "colab_type": "text"
      },
      "source": [
        "# Premade Estimators"
      ]
    },
    {
      "cell_type": "markdown",
      "metadata": {
        "id": "P-iVihCuKIoY",
        "colab_type": "text"
      },
      "source": [
        "### imports"
      ]
    },
    {
      "cell_type": "code",
      "metadata": {
        "id": "SZN-SXnLoGVB",
        "colab_type": "code",
        "colab": {}
      },
      "source": [
        "import tensorflow as tf\n",
        "\n",
        "import pandas as pd"
      ],
      "execution_count": 0,
      "outputs": []
    },
    {
      "cell_type": "markdown",
      "metadata": {
        "id": "bOKRzjz_K25K",
        "colab_type": "text"
      },
      "source": [
        "The Iris flowers dataset"
      ]
    },
    {
      "cell_type": "code",
      "metadata": {
        "id": "9N9JI0IYKyCF",
        "colab_type": "code",
        "colab": {
          "base_uri": "https://localhost:8080/",
          "height": 105
        },
        "outputId": "0d57d0e9-8800-45c6-d803-287974dc49d0"
      },
      "source": [
        "train_path = tf.keras.utils.get_file(\n",
        "    \"iris_training.csv\", \"https://storage.googleapis.com/download.tensorflow.org/data/iris_training.csv\"\n",
        ")\n",
        "test_path = tf.keras.utils.get_file(\n",
        "    \"iris_test.csv\", \"https://storage.googleapis.com/download.tensorflow.org/data/iris_test.csv\"\n",
        ")"
      ],
      "execution_count": 2,
      "outputs": [
        {
          "output_type": "stream",
          "text": [
            "Downloading data from https://storage.googleapis.com/download.tensorflow.org/data/iris_training.csv\n",
            "8192/2194 [================================================================================================================] - 0s 0us/step\n",
            "Downloading data from https://storage.googleapis.com/download.tensorflow.org/data/iris_test.csv\n",
            "8192/573 [============================================================================================================================================================================================================================================================================================================================================================================================================================================] - 0s 0us/step\n"
          ],
          "name": "stdout"
        }
      ]
    },
    {
      "cell_type": "code",
      "metadata": {
        "id": "oyDNvxEoL_6o",
        "colab_type": "code",
        "colab": {}
      },
      "source": [
        "CSV_COLUMN_NAMES = ['SepalLength', 'SepalWidth', 'PetalLength', 'PetalWidth', 'Species']\n",
        "SPECIES = ['Setosa', 'Versicolor', 'Virginica']\n",
        "\n",
        "train = pd.read_csv(train_path, names=CSV_COLUMN_NAMES, header=0)\n",
        "test = pd.read_csv(test_path, names=CSV_COLUMN_NAMES, header=0)"
      ],
      "execution_count": 0,
      "outputs": []
    },
    {
      "cell_type": "code",
      "metadata": {
        "id": "VaokgwsdOEOm",
        "colab_type": "code",
        "outputId": "4cfbf126-7c64-4237-8286-cf158e5bc590",
        "colab": {
          "base_uri": "https://localhost:8080/",
          "height": 204
        }
      },
      "source": [
        "train.head()"
      ],
      "execution_count": 4,
      "outputs": [
        {
          "output_type": "execute_result",
          "data": {
            "text/html": [
              "<div>\n",
              "<style scoped>\n",
              "    .dataframe tbody tr th:only-of-type {\n",
              "        vertical-align: middle;\n",
              "    }\n",
              "\n",
              "    .dataframe tbody tr th {\n",
              "        vertical-align: top;\n",
              "    }\n",
              "\n",
              "    .dataframe thead th {\n",
              "        text-align: right;\n",
              "    }\n",
              "</style>\n",
              "<table border=\"1\" class=\"dataframe\">\n",
              "  <thead>\n",
              "    <tr style=\"text-align: right;\">\n",
              "      <th></th>\n",
              "      <th>SepalLength</th>\n",
              "      <th>SepalWidth</th>\n",
              "      <th>PetalLength</th>\n",
              "      <th>PetalWidth</th>\n",
              "      <th>Species</th>\n",
              "    </tr>\n",
              "  </thead>\n",
              "  <tbody>\n",
              "    <tr>\n",
              "      <th>0</th>\n",
              "      <td>6.4</td>\n",
              "      <td>2.8</td>\n",
              "      <td>5.6</td>\n",
              "      <td>2.2</td>\n",
              "      <td>2</td>\n",
              "    </tr>\n",
              "    <tr>\n",
              "      <th>1</th>\n",
              "      <td>5.0</td>\n",
              "      <td>2.3</td>\n",
              "      <td>3.3</td>\n",
              "      <td>1.0</td>\n",
              "      <td>1</td>\n",
              "    </tr>\n",
              "    <tr>\n",
              "      <th>2</th>\n",
              "      <td>4.9</td>\n",
              "      <td>2.5</td>\n",
              "      <td>4.5</td>\n",
              "      <td>1.7</td>\n",
              "      <td>2</td>\n",
              "    </tr>\n",
              "    <tr>\n",
              "      <th>3</th>\n",
              "      <td>4.9</td>\n",
              "      <td>3.1</td>\n",
              "      <td>1.5</td>\n",
              "      <td>0.1</td>\n",
              "      <td>0</td>\n",
              "    </tr>\n",
              "    <tr>\n",
              "      <th>4</th>\n",
              "      <td>5.7</td>\n",
              "      <td>3.8</td>\n",
              "      <td>1.7</td>\n",
              "      <td>0.3</td>\n",
              "      <td>0</td>\n",
              "    </tr>\n",
              "  </tbody>\n",
              "</table>\n",
              "</div>"
            ],
            "text/plain": [
              "   SepalLength  SepalWidth  PetalLength  PetalWidth  Species\n",
              "0          6.4         2.8          5.6         2.2        2\n",
              "1          5.0         2.3          3.3         1.0        1\n",
              "2          4.9         2.5          4.5         1.7        2\n",
              "3          4.9         3.1          1.5         0.1        0\n",
              "4          5.7         3.8          1.7         0.3        0"
            ]
          },
          "metadata": {
            "tags": []
          },
          "execution_count": 4
        }
      ]
    },
    {
      "cell_type": "code",
      "metadata": {
        "id": "HTu6i0551HVx",
        "colab_type": "code",
        "outputId": "d46db496-1049-4611-dc0b-072397e70d9d",
        "colab": {
          "base_uri": "https://localhost:8080/",
          "height": 204
        }
      },
      "source": [
        "test.head()"
      ],
      "execution_count": 5,
      "outputs": [
        {
          "output_type": "execute_result",
          "data": {
            "text/html": [
              "<div>\n",
              "<style scoped>\n",
              "    .dataframe tbody tr th:only-of-type {\n",
              "        vertical-align: middle;\n",
              "    }\n",
              "\n",
              "    .dataframe tbody tr th {\n",
              "        vertical-align: top;\n",
              "    }\n",
              "\n",
              "    .dataframe thead th {\n",
              "        text-align: right;\n",
              "    }\n",
              "</style>\n",
              "<table border=\"1\" class=\"dataframe\">\n",
              "  <thead>\n",
              "    <tr style=\"text-align: right;\">\n",
              "      <th></th>\n",
              "      <th>SepalLength</th>\n",
              "      <th>SepalWidth</th>\n",
              "      <th>PetalLength</th>\n",
              "      <th>PetalWidth</th>\n",
              "      <th>Species</th>\n",
              "    </tr>\n",
              "  </thead>\n",
              "  <tbody>\n",
              "    <tr>\n",
              "      <th>0</th>\n",
              "      <td>5.9</td>\n",
              "      <td>3.0</td>\n",
              "      <td>4.2</td>\n",
              "      <td>1.5</td>\n",
              "      <td>1</td>\n",
              "    </tr>\n",
              "    <tr>\n",
              "      <th>1</th>\n",
              "      <td>6.9</td>\n",
              "      <td>3.1</td>\n",
              "      <td>5.4</td>\n",
              "      <td>2.1</td>\n",
              "      <td>2</td>\n",
              "    </tr>\n",
              "    <tr>\n",
              "      <th>2</th>\n",
              "      <td>5.1</td>\n",
              "      <td>3.3</td>\n",
              "      <td>1.7</td>\n",
              "      <td>0.5</td>\n",
              "      <td>0</td>\n",
              "    </tr>\n",
              "    <tr>\n",
              "      <th>3</th>\n",
              "      <td>6.0</td>\n",
              "      <td>3.4</td>\n",
              "      <td>4.5</td>\n",
              "      <td>1.6</td>\n",
              "      <td>1</td>\n",
              "    </tr>\n",
              "    <tr>\n",
              "      <th>4</th>\n",
              "      <td>5.5</td>\n",
              "      <td>2.5</td>\n",
              "      <td>4.0</td>\n",
              "      <td>1.3</td>\n",
              "      <td>1</td>\n",
              "    </tr>\n",
              "  </tbody>\n",
              "</table>\n",
              "</div>"
            ],
            "text/plain": [
              "   SepalLength  SepalWidth  PetalLength  PetalWidth  Species\n",
              "0          5.9         3.0          4.2         1.5        1\n",
              "1          6.9         3.1          5.4         2.1        2\n",
              "2          5.1         3.3          1.7         0.5        0\n",
              "3          6.0         3.4          4.5         1.6        1\n",
              "4          5.5         2.5          4.0         1.3        1"
            ]
          },
          "metadata": {
            "tags": []
          },
          "execution_count": 5
        }
      ]
    },
    {
      "cell_type": "markdown",
      "metadata": {
        "id": "Japw4wrja18v",
        "colab_type": "text"
      },
      "source": [
        "### Seperation of Labels from data"
      ]
    },
    {
      "cell_type": "code",
      "metadata": {
        "id": "SGiCvFFUaEEN",
        "colab_type": "code",
        "colab": {}
      },
      "source": [
        "train_y = train.pop('Species')"
      ],
      "execution_count": 0,
      "outputs": []
    },
    {
      "cell_type": "code",
      "metadata": {
        "id": "wkl2nXmcaYNg",
        "colab_type": "code",
        "colab": {}
      },
      "source": [
        "test_y = test.pop('Species')"
      ],
      "execution_count": 0,
      "outputs": []
    },
    {
      "cell_type": "code",
      "metadata": {
        "id": "jFYY0JhWaiv1",
        "colab_type": "code",
        "colab": {
          "base_uri": "https://localhost:8080/",
          "height": 204
        },
        "outputId": "c35865fe-534f-4be7-ca3e-2b995c3b12cd"
      },
      "source": [
        "train.head()"
      ],
      "execution_count": 8,
      "outputs": [
        {
          "output_type": "execute_result",
          "data": {
            "text/html": [
              "<div>\n",
              "<style scoped>\n",
              "    .dataframe tbody tr th:only-of-type {\n",
              "        vertical-align: middle;\n",
              "    }\n",
              "\n",
              "    .dataframe tbody tr th {\n",
              "        vertical-align: top;\n",
              "    }\n",
              "\n",
              "    .dataframe thead th {\n",
              "        text-align: right;\n",
              "    }\n",
              "</style>\n",
              "<table border=\"1\" class=\"dataframe\">\n",
              "  <thead>\n",
              "    <tr style=\"text-align: right;\">\n",
              "      <th></th>\n",
              "      <th>SepalLength</th>\n",
              "      <th>SepalWidth</th>\n",
              "      <th>PetalLength</th>\n",
              "      <th>PetalWidth</th>\n",
              "    </tr>\n",
              "  </thead>\n",
              "  <tbody>\n",
              "    <tr>\n",
              "      <th>0</th>\n",
              "      <td>6.4</td>\n",
              "      <td>2.8</td>\n",
              "      <td>5.6</td>\n",
              "      <td>2.2</td>\n",
              "    </tr>\n",
              "    <tr>\n",
              "      <th>1</th>\n",
              "      <td>5.0</td>\n",
              "      <td>2.3</td>\n",
              "      <td>3.3</td>\n",
              "      <td>1.0</td>\n",
              "    </tr>\n",
              "    <tr>\n",
              "      <th>2</th>\n",
              "      <td>4.9</td>\n",
              "      <td>2.5</td>\n",
              "      <td>4.5</td>\n",
              "      <td>1.7</td>\n",
              "    </tr>\n",
              "    <tr>\n",
              "      <th>3</th>\n",
              "      <td>4.9</td>\n",
              "      <td>3.1</td>\n",
              "      <td>1.5</td>\n",
              "      <td>0.1</td>\n",
              "    </tr>\n",
              "    <tr>\n",
              "      <th>4</th>\n",
              "      <td>5.7</td>\n",
              "      <td>3.8</td>\n",
              "      <td>1.7</td>\n",
              "      <td>0.3</td>\n",
              "    </tr>\n",
              "  </tbody>\n",
              "</table>\n",
              "</div>"
            ],
            "text/plain": [
              "   SepalLength  SepalWidth  PetalLength  PetalWidth\n",
              "0          6.4         2.8          5.6         2.2\n",
              "1          5.0         2.3          3.3         1.0\n",
              "2          4.9         2.5          4.5         1.7\n",
              "3          4.9         3.1          1.5         0.1\n",
              "4          5.7         3.8          1.7         0.3"
            ]
          },
          "metadata": {
            "tags": []
          },
          "execution_count": 8
        }
      ]
    },
    {
      "cell_type": "markdown",
      "metadata": {
        "id": "3mANgOPMaBm4",
        "colab_type": "text"
      },
      "source": [
        "### Create input functions"
      ]
    },
    {
      "cell_type": "code",
      "metadata": {
        "id": "NP0K9A88asmx",
        "colab_type": "code",
        "colab": {}
      },
      "source": [
        "def input_evaluation_set():\n",
        "  features = {\n",
        "      'SepalLength': np.array([6.4, 5.0]),\n",
        "      'SepalWidth' : np.array([2.8, 2.3]),\n",
        "      'PetalLength': np.array([5.6, 3.3]),\n",
        "      'PetalWidth' : np.array([2.2, 1.0])\n",
        "  }\n",
        "  labels = np.array([2, 1])\n",
        "  return features, labels"
      ],
      "execution_count": 0,
      "outputs": []
    },
    {
      "cell_type": "code",
      "metadata": {
        "id": "N-sjmWURa9yL",
        "colab_type": "code",
        "colab": {}
      },
      "source": [
        "def input_fn(features, labels, training=True, batch_size=256):\n",
        "  \"\"\"An input function for training or evaluating\"\"\"\n",
        "  # Convert the inputs to a Dataset.\n",
        "  dataset = tf.data.Dataset.from_tensor_slices((dict(features), labels))\n",
        "\n",
        "  # Shuffle and repeat if you are in training mode.\n",
        "  if training:\n",
        "    dataset = dataset.shuffle(1000).repeat()\n",
        "  \n",
        "  return dataset.batch(batch_size)"
      ],
      "execution_count": 0,
      "outputs": []
    },
    {
      "cell_type": "markdown",
      "metadata": {
        "id": "YxVpgvIlgUIS",
        "colab_type": "text"
      },
      "source": [
        "### Define the feature columns"
      ]
    },
    {
      "cell_type": "code",
      "metadata": {
        "id": "FHN_xzUMgJVg",
        "colab_type": "code",
        "colab": {}
      },
      "source": [
        "# Features columns describe how to use the input.\n",
        "my_feature_columns = []\n",
        "for key in train.keys():\n",
        "  my_feature_columns.append(tf.feature_column.numeric_column(key=key))"
      ],
      "execution_count": 0,
      "outputs": []
    },
    {
      "cell_type": "markdown",
      "metadata": {
        "id": "eqRD28tZse-F",
        "colab_type": "text"
      },
      "source": [
        "### Instantiate an estimator"
      ]
    },
    {
      "cell_type": "code",
      "metadata": {
        "id": "vqP8BNcGgwUl",
        "colab_type": "code",
        "colab": {
          "base_uri": "https://localhost:8080/",
          "height": 190
        },
        "outputId": "26a7ac7f-b8fe-4d3e-aae0-efff761c6e0f"
      },
      "source": [
        "# Build a DNN with 2 hidden layers with 30 and 10 hidden nodes each.\n",
        "classifier = tf.estimator.DNNClassifier(\n",
        "    feature_columns=my_feature_columns,\n",
        "    # Two hidden layers of 30 and 10 nodes respectively.\n",
        "    hidden_units=[30,10],\n",
        "    # The model must choose between 3 classes\n",
        "    n_classes=3\n",
        ")"
      ],
      "execution_count": 12,
      "outputs": [
        {
          "output_type": "stream",
          "text": [
            "INFO:tensorflow:Using default config.\n",
            "WARNING:tensorflow:Using temporary folder as model directory: /tmp/tmpixqlb_ve\n",
            "INFO:tensorflow:Using config: {'_model_dir': '/tmp/tmpixqlb_ve', '_tf_random_seed': None, '_save_summary_steps': 100, '_save_checkpoints_steps': None, '_save_checkpoints_secs': 600, '_session_config': allow_soft_placement: true\n",
            "graph_options {\n",
            "  rewrite_options {\n",
            "    meta_optimizer_iterations: ONE\n",
            "  }\n",
            "}\n",
            ", '_keep_checkpoint_max': 5, '_keep_checkpoint_every_n_hours': 10000, '_log_step_count_steps': 100, '_train_distribute': None, '_device_fn': None, '_protocol': None, '_eval_distribute': None, '_experimental_distribute': None, '_experimental_max_worker_delay_secs': None, '_session_creation_timeout_secs': 7200, '_service': None, '_cluster_spec': ClusterSpec({}), '_task_type': 'worker', '_task_id': 0, '_global_id_in_cluster': 0, '_master': '', '_evaluation_master': '', '_is_chief': True, '_num_ps_replicas': 0, '_num_worker_replicas': 1}\n"
          ],
          "name": "stdout"
        }
      ]
    },
    {
      "cell_type": "markdown",
      "metadata": {
        "id": "M1okHblk8bzb",
        "colab_type": "text"
      },
      "source": [
        "### Train, Evaluate, and Predict"
      ]
    },
    {
      "cell_type": "code",
      "metadata": {
        "id": "zAnQEHjQ8ZXv",
        "colab_type": "code",
        "colab": {
          "base_uri": "https://localhost:8080/",
          "height": 1000
        },
        "outputId": "1c36326c-dac9-4a2b-91d2-748d28de52a5"
      },
      "source": [
        "# Train the Model\n",
        "classifier.train(\n",
        "    input_fn=lambda: input_fn(train, train_y, training=True),\n",
        "    steps=5000\n",
        ")"
      ],
      "execution_count": 13,
      "outputs": [
        {
          "output_type": "stream",
          "text": [
            "WARNING:tensorflow:From /usr/local/lib/python3.6/dist-packages/tensorflow/python/ops/resource_variable_ops.py:1666: calling BaseResourceVariable.__init__ (from tensorflow.python.ops.resource_variable_ops) with constraint is deprecated and will be removed in a future version.\n",
            "Instructions for updating:\n",
            "If using Keras pass *_constraint arguments to layers.\n",
            "WARNING:tensorflow:From /usr/local/lib/python3.6/dist-packages/tensorflow/python/training/training_util.py:236: Variable.initialized_value (from tensorflow.python.ops.variables) is deprecated and will be removed in a future version.\n",
            "Instructions for updating:\n",
            "Use Variable.read_value. Variables in 2.X are initialized automatically both in eager and graph (inside tf.defun) contexts.\n",
            "INFO:tensorflow:Calling model_fn.\n",
            "WARNING:tensorflow:Layer dnn is casting an input tensor from dtype float64 to the layer's dtype of float32, which is new behavior in TensorFlow 2.  The layer has dtype float32 because it's dtype defaults to floatx.\n",
            "\n",
            "If you intended to run this layer in float32, you can safely ignore this warning. If in doubt, this warning is likely only an issue if you are porting a TensorFlow 1.X model to TensorFlow 2.\n",
            "\n",
            "To change all layers to have dtype float64 by default, call `tf.keras.backend.set_floatx('float64')`. To change just this layer, pass dtype='float64' to the layer constructor. If you are the author of this layer, you can disable autocasting by passing autocast=False to the base Layer constructor.\n",
            "\n",
            "WARNING:tensorflow:From /usr/local/lib/python3.6/dist-packages/tensorflow/python/keras/optimizer_v2/adagrad.py:106: calling Constant.__init__ (from tensorflow.python.ops.init_ops) with dtype is deprecated and will be removed in a future version.\n",
            "Instructions for updating:\n",
            "Call initializer instance with the dtype argument instead of passing it to the constructor\n",
            "INFO:tensorflow:Done calling model_fn.\n",
            "INFO:tensorflow:Create CheckpointSaverHook.\n",
            "INFO:tensorflow:Graph was finalized.\n",
            "INFO:tensorflow:Running local_init_op.\n",
            "INFO:tensorflow:Done running local_init_op.\n",
            "INFO:tensorflow:Calling checkpoint listeners before saving checkpoint 0...\n",
            "INFO:tensorflow:Saving checkpoints for 0 into /tmp/tmpixqlb_ve/model.ckpt.\n",
            "INFO:tensorflow:Calling checkpoint listeners after saving checkpoint 0...\n",
            "INFO:tensorflow:loss = 1.1782343, step = 0\n",
            "INFO:tensorflow:global_step/sec: 487.035\n",
            "INFO:tensorflow:loss = 1.0515589, step = 100 (0.209 sec)\n",
            "INFO:tensorflow:global_step/sec: 627.789\n",
            "INFO:tensorflow:loss = 1.0205349, step = 200 (0.157 sec)\n",
            "INFO:tensorflow:global_step/sec: 624.092\n",
            "INFO:tensorflow:loss = 0.99063015, step = 300 (0.161 sec)\n",
            "INFO:tensorflow:global_step/sec: 628.727\n",
            "INFO:tensorflow:loss = 0.9685793, step = 400 (0.159 sec)\n",
            "INFO:tensorflow:global_step/sec: 635.071\n",
            "INFO:tensorflow:loss = 0.9455174, step = 500 (0.160 sec)\n",
            "INFO:tensorflow:global_step/sec: 576.034\n",
            "INFO:tensorflow:loss = 0.9217808, step = 600 (0.171 sec)\n",
            "INFO:tensorflow:global_step/sec: 619.935\n",
            "INFO:tensorflow:loss = 0.89795184, step = 700 (0.163 sec)\n",
            "INFO:tensorflow:global_step/sec: 620.255\n",
            "INFO:tensorflow:loss = 0.87742805, step = 800 (0.161 sec)\n",
            "INFO:tensorflow:global_step/sec: 639.737\n",
            "INFO:tensorflow:loss = 0.86001235, step = 900 (0.155 sec)\n",
            "INFO:tensorflow:global_step/sec: 616.711\n",
            "INFO:tensorflow:loss = 0.8360484, step = 1000 (0.165 sec)\n",
            "INFO:tensorflow:global_step/sec: 615.264\n",
            "INFO:tensorflow:loss = 0.8274124, step = 1100 (0.160 sec)\n",
            "INFO:tensorflow:global_step/sec: 610.173\n",
            "INFO:tensorflow:loss = 0.8068286, step = 1200 (0.166 sec)\n",
            "INFO:tensorflow:global_step/sec: 608.307\n",
            "INFO:tensorflow:loss = 0.7960773, step = 1300 (0.164 sec)\n",
            "INFO:tensorflow:global_step/sec: 625.403\n",
            "INFO:tensorflow:loss = 0.7699858, step = 1400 (0.157 sec)\n",
            "INFO:tensorflow:global_step/sec: 632.076\n",
            "INFO:tensorflow:loss = 0.75723106, step = 1500 (0.158 sec)\n",
            "INFO:tensorflow:global_step/sec: 633.22\n",
            "INFO:tensorflow:loss = 0.7441572, step = 1600 (0.160 sec)\n",
            "INFO:tensorflow:global_step/sec: 635.078\n",
            "INFO:tensorflow:loss = 0.7340449, step = 1700 (0.158 sec)\n",
            "INFO:tensorflow:global_step/sec: 607.319\n",
            "INFO:tensorflow:loss = 0.71556777, step = 1800 (0.162 sec)\n",
            "INFO:tensorflow:global_step/sec: 636.906\n",
            "INFO:tensorflow:loss = 0.69280136, step = 1900 (0.160 sec)\n",
            "INFO:tensorflow:global_step/sec: 619.344\n",
            "INFO:tensorflow:loss = 0.68680286, step = 2000 (0.161 sec)\n",
            "INFO:tensorflow:global_step/sec: 636.644\n",
            "INFO:tensorflow:loss = 0.6744567, step = 2100 (0.158 sec)\n",
            "INFO:tensorflow:global_step/sec: 640.634\n",
            "INFO:tensorflow:loss = 0.6571325, step = 2200 (0.153 sec)\n",
            "INFO:tensorflow:global_step/sec: 573.553\n",
            "INFO:tensorflow:loss = 0.64985466, step = 2300 (0.175 sec)\n",
            "INFO:tensorflow:global_step/sec: 642.87\n",
            "INFO:tensorflow:loss = 0.6383862, step = 2400 (0.158 sec)\n",
            "INFO:tensorflow:global_step/sec: 608.517\n",
            "INFO:tensorflow:loss = 0.62970865, step = 2500 (0.164 sec)\n",
            "INFO:tensorflow:global_step/sec: 628.898\n",
            "INFO:tensorflow:loss = 0.611944, step = 2600 (0.159 sec)\n",
            "INFO:tensorflow:global_step/sec: 621.377\n",
            "INFO:tensorflow:loss = 0.60202754, step = 2700 (0.161 sec)\n",
            "INFO:tensorflow:global_step/sec: 626.033\n",
            "INFO:tensorflow:loss = 0.59292626, step = 2800 (0.160 sec)\n",
            "INFO:tensorflow:global_step/sec: 633.63\n",
            "INFO:tensorflow:loss = 0.59396327, step = 2900 (0.163 sec)\n",
            "INFO:tensorflow:global_step/sec: 597.379\n",
            "INFO:tensorflow:loss = 0.58360684, step = 3000 (0.160 sec)\n",
            "INFO:tensorflow:global_step/sec: 606.25\n",
            "INFO:tensorflow:loss = 0.5699077, step = 3100 (0.168 sec)\n",
            "INFO:tensorflow:global_step/sec: 635.819\n",
            "INFO:tensorflow:loss = 0.5589367, step = 3200 (0.157 sec)\n",
            "INFO:tensorflow:global_step/sec: 638.607\n",
            "INFO:tensorflow:loss = 0.55076146, step = 3300 (0.154 sec)\n",
            "INFO:tensorflow:global_step/sec: 623.969\n",
            "INFO:tensorflow:loss = 0.5410913, step = 3400 (0.163 sec)\n",
            "INFO:tensorflow:global_step/sec: 644.639\n",
            "INFO:tensorflow:loss = 0.53276384, step = 3500 (0.155 sec)\n",
            "INFO:tensorflow:global_step/sec: 626.564\n",
            "INFO:tensorflow:loss = 0.53060794, step = 3600 (0.160 sec)\n",
            "INFO:tensorflow:global_step/sec: 609.065\n",
            "INFO:tensorflow:loss = 0.51764935, step = 3700 (0.162 sec)\n",
            "INFO:tensorflow:global_step/sec: 616.076\n",
            "INFO:tensorflow:loss = 0.5234458, step = 3800 (0.164 sec)\n",
            "INFO:tensorflow:global_step/sec: 622.432\n",
            "INFO:tensorflow:loss = 0.5127592, step = 3900 (0.159 sec)\n",
            "INFO:tensorflow:global_step/sec: 647.9\n",
            "INFO:tensorflow:loss = 0.49707183, step = 4000 (0.154 sec)\n",
            "INFO:tensorflow:global_step/sec: 618.826\n",
            "INFO:tensorflow:loss = 0.48663858, step = 4100 (0.164 sec)\n",
            "INFO:tensorflow:global_step/sec: 633.74\n",
            "INFO:tensorflow:loss = 0.48881364, step = 4200 (0.158 sec)\n",
            "INFO:tensorflow:global_step/sec: 553.991\n",
            "INFO:tensorflow:loss = 0.48797745, step = 4300 (0.178 sec)\n",
            "INFO:tensorflow:global_step/sec: 618.856\n",
            "INFO:tensorflow:loss = 0.4844043, step = 4400 (0.164 sec)\n",
            "INFO:tensorflow:global_step/sec: 592.021\n",
            "INFO:tensorflow:loss = 0.47526106, step = 4500 (0.166 sec)\n",
            "INFO:tensorflow:global_step/sec: 628.31\n",
            "INFO:tensorflow:loss = 0.46687162, step = 4600 (0.162 sec)\n",
            "INFO:tensorflow:global_step/sec: 618.576\n",
            "INFO:tensorflow:loss = 0.4533292, step = 4700 (0.162 sec)\n",
            "INFO:tensorflow:global_step/sec: 634.061\n",
            "INFO:tensorflow:loss = 0.46062613, step = 4800 (0.158 sec)\n",
            "INFO:tensorflow:global_step/sec: 608.078\n",
            "INFO:tensorflow:loss = 0.46211588, step = 4900 (0.162 sec)\n",
            "INFO:tensorflow:Calling checkpoint listeners before saving checkpoint 5000...\n",
            "INFO:tensorflow:Saving checkpoints for 5000 into /tmp/tmpixqlb_ve/model.ckpt.\n",
            "INFO:tensorflow:Calling checkpoint listeners after saving checkpoint 5000...\n",
            "INFO:tensorflow:Loss for final step: 0.45397377.\n"
          ],
          "name": "stdout"
        },
        {
          "output_type": "execute_result",
          "data": {
            "text/plain": [
              "<tensorflow_estimator.python.estimator.canned.dnn.DNNClassifierV2 at 0x7f6fbde34cf8>"
            ]
          },
          "metadata": {
            "tags": []
          },
          "execution_count": 13
        }
      ]
    },
    {
      "cell_type": "code",
      "metadata": {
        "id": "hqJAXFxA81yn",
        "colab_type": "code",
        "colab": {
          "base_uri": "https://localhost:8080/",
          "height": 377
        },
        "outputId": "00172652-279c-4926-8c77-71f57b962cf1"
      },
      "source": [
        "eval_result = classifier.evaluate(\n",
        "    input_fn=lambda: input_fn(test, test_y, training=False)\n",
        ")\n",
        "\n",
        "print('\\nTest set accuracy: {accuracy:0.3f}\\n'.format(**eval_result))"
      ],
      "execution_count": 14,
      "outputs": [
        {
          "output_type": "stream",
          "text": [
            "INFO:tensorflow:Calling model_fn.\n",
            "WARNING:tensorflow:Layer dnn is casting an input tensor from dtype float64 to the layer's dtype of float32, which is new behavior in TensorFlow 2.  The layer has dtype float32 because it's dtype defaults to floatx.\n",
            "\n",
            "If you intended to run this layer in float32, you can safely ignore this warning. If in doubt, this warning is likely only an issue if you are porting a TensorFlow 1.X model to TensorFlow 2.\n",
            "\n",
            "To change all layers to have dtype float64 by default, call `tf.keras.backend.set_floatx('float64')`. To change just this layer, pass dtype='float64' to the layer constructor. If you are the author of this layer, you can disable autocasting by passing autocast=False to the base Layer constructor.\n",
            "\n",
            "INFO:tensorflow:Done calling model_fn.\n",
            "INFO:tensorflow:Starting evaluation at 2020-06-02T02:57:16Z\n",
            "INFO:tensorflow:Graph was finalized.\n",
            "INFO:tensorflow:Restoring parameters from /tmp/tmpixqlb_ve/model.ckpt-5000\n",
            "INFO:tensorflow:Running local_init_op.\n",
            "INFO:tensorflow:Done running local_init_op.\n",
            "INFO:tensorflow:Inference Time : 0.23645s\n",
            "INFO:tensorflow:Finished evaluation at 2020-06-02-02:57:16\n",
            "INFO:tensorflow:Saving dict for global step 5000: accuracy = 0.9, average_loss = 0.5166379, global_step = 5000, loss = 0.5166379\n",
            "INFO:tensorflow:Saving 'checkpoint_path' summary for global step 5000: /tmp/tmpixqlb_ve/model.ckpt-5000\n",
            "\n",
            "Test set accuracy: 0.900\n",
            "\n"
          ],
          "name": "stdout"
        }
      ]
    },
    {
      "cell_type": "markdown",
      "metadata": {
        "id": "zJE-RyulFjr3",
        "colab_type": "text"
      },
      "source": [
        "### Making predictions"
      ]
    },
    {
      "cell_type": "code",
      "metadata": {
        "id": "aDcbPZV89jIM",
        "colab_type": "code",
        "colab": {}
      },
      "source": [
        "# Generate predictions from the model\n",
        "expected = ['Setosa', 'Versicolor', 'Virginica']\n",
        "predict_x = {\n",
        "    'SepalLength': [5.1, 5.9, 6.9],\n",
        "    'SepalWidth': [3.3, 3.0, 3.1],\n",
        "    'PetalLength': [1.7, 4.2, 5.4],\n",
        "    'PetalWidth': [0.5, 1.5, 2.1],\n",
        "}\n",
        "\n",
        "def input_fn(features, batch_size=256):\n",
        "    \"\"\"An input function for prediction.\"\"\"\n",
        "    # Convert the inputs to a Dataset without labels.\n",
        "    return tf.data.Dataset.from_tensor_slices(dict(features)).batch(batch_size)\n",
        "\n",
        "predictions = classifier.predict(\n",
        "    input_fn=lambda: input_fn(predict_x))"
      ],
      "execution_count": 0,
      "outputs": []
    },
    {
      "cell_type": "code",
      "metadata": {
        "id": "idhsN-X0Frz4",
        "colab_type": "code",
        "colab": {
          "base_uri": "https://localhost:8080/",
          "height": 170
        },
        "outputId": "2eba89e3-b8c2-44cb-8b0b-3689a4a46d72"
      },
      "source": [
        "for pred_dict, expec in zip(predictions, expected):\n",
        "    class_id = pred_dict['class_ids'][0]\n",
        "    probability = pred_dict['probabilities'][class_id]\n",
        "\n",
        "    print('Prediction is \"{}\" ({:.1f}%), expected \"{}\"'.format(\n",
        "        SPECIES[class_id], 100 * probability, expec))"
      ],
      "execution_count": 16,
      "outputs": [
        {
          "output_type": "stream",
          "text": [
            "INFO:tensorflow:Calling model_fn.\n",
            "INFO:tensorflow:Done calling model_fn.\n",
            "INFO:tensorflow:Graph was finalized.\n",
            "INFO:tensorflow:Restoring parameters from /tmp/tmpixqlb_ve/model.ckpt-5000\n",
            "INFO:tensorflow:Running local_init_op.\n",
            "INFO:tensorflow:Done running local_init_op.\n",
            "Prediction is \"Setosa\" (77.2%), expected \"Setosa\"\n",
            "Prediction is \"Versicolor\" (45.0%), expected \"Versicolor\"\n",
            "Prediction is \"Virginica\" (60.2%), expected \"Virginica\"\n"
          ],
          "name": "stdout"
        }
      ]
    },
    {
      "cell_type": "code",
      "metadata": {
        "id": "kppJY9cCFwIi",
        "colab_type": "code",
        "colab": {}
      },
      "source": [
        ""
      ],
      "execution_count": 0,
      "outputs": []
    }
  ]
}